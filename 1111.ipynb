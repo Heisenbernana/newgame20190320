{
 "cells": [
  {
   "cell_type": "markdown",
   "metadata": {},
   "source": [
    "![你是傻逼](https://timgsa.baidu.com/timg?image&quality=80&size=b9999_10000&sec=1552571467867&di=28701460af26521eb7c646b1468d36c4&imgtype=0&src=http%3A%2F%2F00.imgmini.eastday.com%2Fmobile%2F20170707%2F20170707155503_dcd124b9f66ccfbef5ebe15489ec0b80_1.jpeg)"
   ]
  },
  {
   "cell_type": "markdown",
   "metadata": {},
   "source": [
    "<img src=https://timgsa.baidu.com/timg?image&quality=80&size=b9999_10000&sec=1552571467867&di=28701460af26521eb7c646b1468d36c4&imgtype=0&src=http%3A%2F%2F00.imgmini.eastday.com%2Fmobile%2F20170707%2F20170707155503_dcd124b9f66ccfbef5ebe15489ec0b80_1.jpeg,width=200>"
   ]
  },
  {
   "cell_type": "markdown",
   "metadata": {},
   "source": [
    "|第一栏   |第二栏 |第三栏  |\n",
    "|---------|:-------|-------:|\n",
    "|col is   |right-ali|dgdfgdfs|\n",
    "|dfggsdfgd|fdgdfgdfgdfgdfgf|dfg|"
   ]
  },
  {
   "cell_type": "markdown",
   "metadata": {},
   "source": [
    "<img src='./1.jpg'>"
   ]
  },
  {
   "cell_type": "code",
   "execution_count": null,
   "metadata": {},
   "outputs": [],
   "source": []
  }
 ],
 "metadata": {
  "kernelspec": {
   "display_name": "Python 3",
   "language": "python",
   "name": "python3"
  },
  "language_info": {
   "codemirror_mode": {
    "name": "ipython",
    "version": 3
   },
   "file_extension": ".py",
   "mimetype": "text/x-python",
   "name": "python",
   "nbconvert_exporter": "python",
   "pygments_lexer": "ipython3",
   "version": "3.6.4"
  }
 },
 "nbformat": 4,
 "nbformat_minor": 2
}
